{
  "nbformat": 4,
  "nbformat_minor": 0,
  "metadata": {
    "colab": {
      "provenance": [],
      "authorship_tag": "ABX9TyOhddmbafYkHPGqcwFXrsh3",
      "include_colab_link": true
    },
    "kernelspec": {
      "name": "python3",
      "display_name": "Python 3"
    },
    "language_info": {
      "name": "python"
    }
  },
  "cells": [
    {
      "cell_type": "markdown",
      "metadata": {
        "id": "view-in-github",
        "colab_type": "text"
      },
      "source": [
        "<a href=\"https://colab.research.google.com/github/RHemakiran/PRODIGY_SD_05/blob/main/PRODIGY_SD_05.ipynb\" target=\"_parent\"><img src=\"https://colab.research.google.com/assets/colab-badge.svg\" alt=\"Open In Colab\"/></a>"
      ]
    },
    {
      "cell_type": "code",
      "execution_count": 1,
      "metadata": {
        "colab": {
          "base_uri": "https://localhost:8080/"
        },
        "id": "tCU5GRdD-RNm",
        "outputId": "9e2e8982-8f73-47db-9043-79806fa5d307"
      },
      "outputs": [
        {
          "output_type": "stream",
          "name": "stdout",
          "text": [
            "Requirement already satisfied: requests in /usr/local/lib/python3.10/dist-packages (2.32.3)\n",
            "Requirement already satisfied: beautifulsoup4 in /usr/local/lib/python3.10/dist-packages (4.12.3)\n",
            "Requirement already satisfied: pandas in /usr/local/lib/python3.10/dist-packages (2.2.2)\n",
            "Requirement already satisfied: charset-normalizer<4,>=2 in /usr/local/lib/python3.10/dist-packages (from requests) (3.3.2)\n",
            "Requirement already satisfied: idna<4,>=2.5 in /usr/local/lib/python3.10/dist-packages (from requests) (3.10)\n",
            "Requirement already satisfied: urllib3<3,>=1.21.1 in /usr/local/lib/python3.10/dist-packages (from requests) (2.2.3)\n",
            "Requirement already satisfied: certifi>=2017.4.17 in /usr/local/lib/python3.10/dist-packages (from requests) (2024.8.30)\n",
            "Requirement already satisfied: soupsieve>1.2 in /usr/local/lib/python3.10/dist-packages (from beautifulsoup4) (2.6)\n",
            "Requirement already satisfied: numpy>=1.22.4 in /usr/local/lib/python3.10/dist-packages (from pandas) (1.26.4)\n",
            "Requirement already satisfied: python-dateutil>=2.8.2 in /usr/local/lib/python3.10/dist-packages (from pandas) (2.8.2)\n",
            "Requirement already satisfied: pytz>=2020.1 in /usr/local/lib/python3.10/dist-packages (from pandas) (2024.2)\n",
            "Requirement already satisfied: tzdata>=2022.7 in /usr/local/lib/python3.10/dist-packages (from pandas) (2024.2)\n",
            "Requirement already satisfied: six>=1.5 in /usr/local/lib/python3.10/dist-packages (from python-dateutil>=2.8.2->pandas) (1.16.0)\n"
          ]
        }
      ],
      "source": [
        "pip install requests beautifulsoup4 pandas\n"
      ]
    },
    {
      "cell_type": "code",
      "source": [
        "import requests\n",
        "from bs4 import BeautifulSoup\n",
        "import pandas as pd\n"
      ],
      "metadata": {
        "id": "gkbOtzkS-ePG"
      },
      "execution_count": 2,
      "outputs": []
    },
    {
      "cell_type": "code",
      "source": [
        "# URL of the page to scrape\n",
        "url = 'http://books.toscrape.com/catalogue/page-1.html'\n",
        "\n",
        "# Send a GET request\n",
        "response = requests.get(url)\n",
        "\n",
        "# Check if the request was successful\n",
        "if response.status_code == 200:\n",
        "    page_content = response.content\n",
        "else:\n",
        "    print(f\"Failed to retrieve page: {response.status_code}\")\n"
      ],
      "metadata": {
        "id": "lECo235n-kAK"
      },
      "execution_count": 3,
      "outputs": []
    },
    {
      "cell_type": "code",
      "source": [
        "# Parse the page content using BeautifulSoup\n",
        "soup = BeautifulSoup(page_content, 'html.parser')\n"
      ],
      "metadata": {
        "id": "92oqoNPK-ndp"
      },
      "execution_count": 4,
      "outputs": []
    },
    {
      "cell_type": "code",
      "source": [
        "\n",
        "# Extract product names\n",
        "product_names = [item.text.strip() for item in soup.find_all('h3')]\n",
        "\n",
        "# Extract product prices\n",
        "product_prices = [item.text.strip() for item in soup.find_all('p', class_='price_color')]\n",
        "\n",
        "# Extract product ratings (class is used to define ratings, e.g., \"star-rating Four\")\n",
        "product_ratings = [item['class'][1] for item in soup.find_all('p', class_='star-rating')]"
      ],
      "metadata": {
        "id": "pO3_biiC-rXx"
      },
      "execution_count": 5,
      "outputs": []
    },
    {
      "cell_type": "code",
      "source": [
        "# Combine the data into a dictionary\n",
        "product_data = {\n",
        "    'Product Name': product_names,\n",
        "    'Price': product_prices,\n",
        "    'Rating': product_ratings\n",
        "}\n",
        "\n",
        "# Convert to a DataFrame\n",
        "df = pd.DataFrame(product_data)\n",
        "\n",
        "# Save to a CSV file\n",
        "df.to_csv('books_data.csv', index=False)\n",
        "\n",
        "print(\"Data has been saved to books_data.csv\")"
      ],
      "metadata": {
        "colab": {
          "base_uri": "https://localhost:8080/"
        },
        "id": "7DUNIGY8-vHT",
        "outputId": "b83c50a9-8150-4cfe-88e7-cc898bff6a32"
      },
      "execution_count": 6,
      "outputs": [
        {
          "output_type": "stream",
          "name": "stdout",
          "text": [
            "Data has been saved to books_data.csv\n"
          ]
        }
      ]
    },
    {
      "cell_type": "code",
      "source": [
        "# Initialize lists to store all data\n",
        "all_product_names = []\n",
        "all_product_prices = []\n",
        "all_product_ratings = []\n",
        "\n",
        "for page in range(1, 3):  # Adjust range to scrape more pages\n",
        "    url = f'http://books.toscrape.com/catalogue/page-{page}.html'\n",
        "    response = requests.get(url)\n",
        "\n",
        "    if response.status_code == 200:\n",
        "        soup = BeautifulSoup(response.content, 'html.parser')\n",
        "\n",
        "        # Extract data from the current page\n",
        "        all_product_names.extend([item.text.strip() for item in soup.find_all('h3')])\n",
        "        all_product_prices.extend([item.text.strip() for item in soup.find_all('p', class_='price_color')])\n",
        "        all_product_ratings.extend([item['class'][1] for item in soup.find_all('p', class_='star-rating')])\n",
        "    else:\n",
        "        print(f\"Failed to retrieve page {page}: {response.status_code}\")\n",
        "\n",
        "# Combine all data into a dictionary\n",
        "product_data = {\n",
        "    'Product Name': all_product_names,\n",
        "    'Price': all_product_prices,\n",
        "    'Rating': all_product_ratings\n",
        "}\n",
        "\n",
        "# Convert to a DataFrame and save to a CSV file\n",
        "df = pd.DataFrame(product_data)\n",
        "df.to_csv('books_data_multiple_pages.csv', index=False)\n",
        "\n",
        "print(\"Data from multiple pages has been saved to books_data_multiple_pages.csv\")\n"
      ],
      "metadata": {
        "colab": {
          "base_uri": "https://localhost:8080/"
        },
        "id": "DGFMBmRT-4ZH",
        "outputId": "149c0d75-b8b9-431b-9aa4-22d60e8ac3aa"
      },
      "execution_count": 7,
      "outputs": [
        {
          "output_type": "stream",
          "name": "stdout",
          "text": [
            "Data from multiple pages has been saved to books_data_multiple_pages.csv\n"
          ]
        }
      ]
    }
  ]
}